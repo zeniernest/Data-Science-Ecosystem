{
 "cells": [
  {
   "cell_type": "markdown",
   "id": "46f12370-0c4f-4ef1-809d-cf486188f5e0",
   "metadata": {
    "jupyter": {
     "source_hidden": true
    }
   },
   "source": [
    "#Run this as markdown\n",
    "# Data Science Tools and Ecosystem"
   ]
  },
  {
   "cell_type": "code",
   "execution_count": null,
   "id": "57576f5a-058a-4bb5-b52b-59106593586d",
   "metadata": {},
   "outputs": [],
   "source": [
    "# Introduction \n",
    "\n",
    "In this notebook, Data Science Tools and Ecosystem are summarized\n",
    "\n",
    "**Objectives:**\n",
    "\n",
    "- List popular languages for Data Science\n",
    "- Identify commonly used libraries in Data Science\n",
    "- Explore development environment open source tools for Data Science\n",
    "- Understand the basics of arithmetic expressions in Python\n"
   ]
  },
  {
   "cell_type": "code",
   "execution_count": null,
   "id": "a5ac5db9-881c-4b0b-ae2c-ec132643cb84",
   "metadata": {},
   "outputs": [],
   "source": [
    "# Data Science Languages\n",
    "\n",
    "Some of the popular languages that Data Scientists use are:\n",
    "\n",
    "1. Python\n",
    "2. R\n",
    "3. SQL\n",
    "4. Julia\n",
    "5. Scala\n"
   ]
  },
  {
   "cell_type": "code",
   "execution_count": null,
   "id": "922d0b6a-b9c4-4555-9680-f40d5f15d559",
   "metadata": {},
   "outputs": [],
   "source": [
    "# Data Science Libraries\n",
    "\n",
    "Some of the commonly used libraries used by Data Scientists include:\n",
    "\n",
    "1. Pandas\n",
    "2. Matplotlib\n",
    "3. Numpy\n",
    "4. Seaborn\n",
    "\n"
   ]
  },
  {
   "cell_type": "code",
   "execution_count": null,
   "id": "7f7ac2f8-59c8-41ee-9095-9ba46cbd94a1",
   "metadata": {},
   "outputs": [],
   "source": [
    "| Data Science Tools |\n",
    "|--------------------|\n",
    "|Jupyter Notebook |\n",
    "|RStudio |\n",
    "|Apache Zeppelin |"
   ]
  },
  {
   "cell_type": "code",
   "execution_count": null,
   "id": "adaea778-bc7a-46f4-936e-49116c67394b",
   "metadata": {},
   "outputs": [],
   "source": [
    "### Below are a few examples of evaluating arithmetic expressions in Python"
   ]
  },
  {
   "cell_type": "code",
   "execution_count": 50,
   "id": "85440034-e2c6-4305-9947-fd43b0414214",
   "metadata": {},
   "outputs": [
    {
     "data": {
      "text/plain": [
       "17"
      ]
     },
     "execution_count": 50,
     "metadata": {},
     "output_type": "execute_result"
    }
   ],
   "source": [
    "# This a simple arithmetic expression to mutiply then add integers\n",
    "\n",
    "answer = (3 * 4) + 5\n",
    "answer"
   ]
  },
  {
   "cell_type": "code",
   "execution_count": 56,
   "id": "27005419-0780-401a-ac7b-2fed73d98d99",
   "metadata": {},
   "outputs": [
    {
     "data": {
      "text/plain": [
       "3.3333333333333335"
      ]
     },
     "execution_count": 56,
     "metadata": {},
     "output_type": "execute_result"
    }
   ],
   "source": [
    "# This will convert 200 minutes to hours by dividing by 60\n",
    "hours = 200 / 60\n",
    "hours\n",
    "\n"
   ]
  },
  {
   "cell_type": "code",
   "execution_count": null,
   "id": "79ce1728-2a7a-46a4-b2ef-91d666077bb9",
   "metadata": {},
   "outputs": [],
   "source": [
    "## Author\n",
    "\n",
    "Ernest Ralidzhivha"
   ]
  },
  {
   "cell_type": "markdown",
   "id": "9eab3655-9bf2-46cf-ab5e-e54558637316",
   "metadata": {},
   "source": []
  }
 ],
 "metadata": {
  "kernelspec": {
   "display_name": "Python 3 (ipykernel)",
   "language": "python",
   "name": "python3"
  },
  "language_info": {
   "codemirror_mode": {
    "name": "ipython",
    "version": 3
   },
   "file_extension": ".py",
   "mimetype": "text/x-python",
   "name": "python",
   "nbconvert_exporter": "python",
   "pygments_lexer": "ipython3",
   "version": "3.12.4"
  }
 },
 "nbformat": 4,
 "nbformat_minor": 5
}
